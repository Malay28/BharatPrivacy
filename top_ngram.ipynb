{
 "cells": [
  {
   "cell_type": "code",
   "execution_count": 2,
   "metadata": {},
   "outputs": [
    {
     "name": "stdout",
     "output_type": "stream",
     "text": [
      "Bigram count: 14\n",
      "Trigram count: 0\n",
      "Total weight of matching ngrams: 72.25456130462351\n",
      "Sum of weights of top 50 ngrams: 233.72485568544917\n"
     ]
    }
   ],
   "source": [
    "import pandas as pd\n",
    "import numpy as np\n",
    "from sklearn.feature_extraction.text import TfidfVectorizer\n",
    "from sklearn.metrics.pairwise import cosine_similarity\n",
    "\n",
    "\n",
    "df = pd.read_csv(\"TOSDR_labeled_with_summaries.csv\")\n",
    "text_data = df['Text'].tolist()\n",
    "\n",
    "tfidf_vectorizer = TfidfVectorizer(ngram_range=(2, 3))\n",
    "tfidf_matrix = tfidf_vectorizer.fit_transform(text_data)\n",
    "\n",
    "feature_names = tfidf_vectorizer.get_feature_names_out()\n",
    "top_ngrams_indices = tfidf_matrix.sum(axis=0).argsort()[0, -50:]\n",
    "\n",
    "\n",
    "top_ngrams_indices_array = np.array(top_ngrams_indices)\n",
    "\n",
    "\n",
    "tfidf_scores = tfidf_matrix.sum(axis=0)\n",
    "top_ngrams_tfidf_scores = tfidf_scores[0, top_ngrams_indices]\n",
    "sum_of_weights = top_ngrams_tfidf_scores.sum()\n",
    "\n",
    "\n",
    "\n",
    "temp = 0\n",
    "lst_features_names = feature_names.tolist()\n",
    "# print(top_ngrams_indices_array[0])\n",
    "top_feature_names = []\n",
    "for i in top_ngrams_indices_array[0]:\n",
    "    top_feature_names.append(lst_features_names[i])\n",
    "\n",
    "\n",
    "\n",
    "def count_and_sum_matching_ngrams(input_sentence):\n",
    "    input_tokens = input_sentence.split()\n",
    "    bigram_count = trigram_count = 0\n",
    "    total_weight = 0\n",
    "\n",
    "    for i in range(len(input_tokens)):\n",
    "        if i < len(input_tokens) - 1:\n",
    "            bigram = ' '.join([input_tokens[i], input_tokens[i + 1]])\n",
    "        if i < len(input_tokens) - 2:\n",
    "            trigram = ' '.join([bigram, input_tokens[i + 2]])\n",
    "\n",
    "\n",
    "        if i < len(input_tokens) - 1 and bigram in top_feature_names:\n",
    "            bigram_count += 1\n",
    "            total_weight += tfidf_matrix[:, tfidf_vectorizer.vocabulary_[bigram]].sum()\n",
    "        if i < len(input_tokens) - 2 and trigram in top_feature_names:\n",
    "            trigram_count += 1\n",
    "            total_weight += tfidf_matrix[:, tfidf_vectorizer.vocabulary_[trigram]].sum()\n",
    "\n",
    "    return bigram_count, trigram_count, total_weight\n",
    "\n",
    "# Example usage\n",
    "input_sentence = \"Please note that if you request the erasure of your personal information: We may retain some of your personal information as necessary for our legitimate business interests, such as fraud detection and prevention and enhancing safety.For example, if we suspend an Airbnb Account for fraud or safety reasons, we may retain certain information from that Airbnb Account to prevent that Member from opening a new Airbnb Account in the future.We may retain and use your personal information to the extent necessary to comply with our legal obligations.For example, Airbnb and Airbnb Payments may keep some of your information for tax, legal reporting and auditing obligations.\"\n",
    "input_sentence = \"Our computer systems and third party hosting provider systems are currently based in the United States and may be located in other countries, so your personal data will be processed by us in the U.S.and other countries where data protection and privacy regulations may not offer the same level of protection as in other parts of the world, such as the European Union.If you create a user account with the Site as a visitor from outside the United States, by using the Site you agree to this Privacy Policy and you consent to the transfer of all such information to the United States, which may not offer an equivalent level of protection of that required in the European Union or certain other countries, and to the processing of that information as described in this Privacy Policy.\"\n",
    "# input_sentence = \"Please note that if you request the erasure of your personal information: We may retain some of your personal information as necessary for our legitimate business interests, such as fraud detection and prevention and enhancing safety.For example, if we suspend an Airbnb Account for fraud or safety reasons, we may retain certain information from that Airbnb Account to prevent that Member from opening a new Airbnb Account in the future.We may retain and use your personal information to the extent necessary to comply with our legal obligations.For example, Airbnb and Airbnb Payments may keep some of your information for tax, legal reporting and auditing obligations.\"\n",
    "# input_sentence = \"When signing up for and using our service, we will collect the following information about you:Information that you provide when creating an Account to become a User.This information includes, but is not limited to:Information, such as your name and address, that uniquely identifies you as a natural or legal person\"\n",
    "bigram_count, trigram_count, total_weight = count_and_sum_matching_ngrams(input_sentence)\n",
    "\n",
    "print(\"Bigram count:\", bigram_count)\n",
    "print(\"Trigram count:\", trigram_count)\n",
    "print(\"Total weight of matching ngrams:\", total_weight)\n",
    "print(\"Sum of weights of top 50 ngrams:\", sum_of_weights)\n",
    "\n"
   ]
  }
 ],
 "metadata": {
  "kernelspec": {
   "display_name": "TDL",
   "language": "python",
   "name": "python3"
  },
  "language_info": {
   "codemirror_mode": {
    "name": "ipython",
    "version": 3
   },
   "file_extension": ".py",
   "mimetype": "text/x-python",
   "name": "python",
   "nbconvert_exporter": "python",
   "pygments_lexer": "ipython3",
   "version": "3.11.7"
  }
 },
 "nbformat": 4,
 "nbformat_minor": 2
}
