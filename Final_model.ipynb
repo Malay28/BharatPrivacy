{
 "cells": [
  {
   "cell_type": "markdown",
   "metadata": {},
   "source": [
    "## Importing the necessary model and the tokeniser from the pretrained saved models"
   ]
  },
  {
   "cell_type": "code",
   "execution_count": 9,
   "metadata": {},
   "outputs": [],
   "source": [
    "from transformers import RobertaForSequenceClassification, RobertaTokenizer, BartForConditionalGeneration, BartTokenizer,MBartForConditionalGeneration, MBart50TokenizerFast\n",
    "import torch\n",
    "\n",
    "import pandas as pd\n",
    "import numpy as np\n",
    "from sklearn.feature_extraction.text import TfidfVectorizer\n",
    "\n",
    "# Loading the Roberta model for classification\n",
    "roberta_model_name = \"roberta_model\"\n",
    "roberta_tokenizer = RobertaTokenizer.from_pretrained('roberta-base')\n",
    "roberta_model = RobertaForSequenceClassification.from_pretrained(roberta_model_name)\n",
    "roberta_model_name2 = \"roberta_model2\"\n",
    "roberta_model2 = RobertaForSequenceClassification.from_pretrained(roberta_model_name2)\n",
    "\n",
    "\n",
    "# Loading the fine-tuned BART model for summarization\n",
    "bart_model_name = \"fine_tuned_bart_model_eng_to_engSummary\"\n",
    "bart_tokenizer = BartTokenizer.from_pretrained('facebook/bart-large-cnn')\n",
    "bart_model = BartForConditionalGeneration.from_pretrained(bart_model_name)\n",
    "\n",
    "# Loading the mBART model for translation to indic languages\n",
    "translation_model_name = \"mbart_eng_to_hi_bn_ta\"\n",
    "translation_model = MBartForConditionalGeneration.from_pretrained(translation_model_name)\n",
    "translator_tokenizer = MBart50TokenizerFast.from_pretrained(\"facebook/mbart-large-50-many-to-many-mmt\")\n",
    "\n",
    "device = torch.device(\"cuda\" if torch.cuda.is_available() else \"cpu\")"
   ]
  },
  {
   "cell_type": "markdown",
   "metadata": {},
   "source": [
    "# Defining function which classifies the sentence as \"bad\" or \"Neutral\" using Roberta Classifer\n"
   ]
  },
  {
   "cell_type": "code",
   "execution_count": 10,
   "metadata": {},
   "outputs": [],
   "source": [
    "def classify_sentence(sentence):\n",
    "    inputs = roberta_tokenizer(sentence, return_tensors=\"pt\", max_length=512, truncation=True)\n",
    "    outputs = roberta_model(**inputs)\n",
    "    logits = outputs.logits\n",
    "    probabilities = logits.softmax(dim=1)\n",
    "    label_id = torch.argmax(probabilities, dim=1).item()\n",
    "    label = \"bad\" if label_id == 0 else \"neutral\"\n",
    "    return label\n",
    "\n",
    "\n",
    "def get_bad_sentence_confidence(sentence):\n",
    "    inputs = roberta_tokenizer(sentence, return_tensors='pt', truncation=True, padding=True)\n",
    "    \n",
    "    # Move inputs to the appropriate device (GPU if available)\n",
    "    inputs = {key: tensor.to(device) for key, tensor in inputs.items()}\n",
    "    with torch.no_grad():\n",
    "        outputs = roberta_model2(**inputs)\n",
    "    logits = outputs.logits\n",
    "    \n",
    "    probabilities = torch.softmax(logits, dim=1)\n",
    "    bad_probability = probabilities[:, 0].item()\n",
    "    \n",
    "    return bad_probability"
   ]
  },
  {
   "cell_type": "markdown",
   "metadata": {},
   "source": [
    "# N-gram approach for risk level scoring\n"
   ]
  },
  {
   "cell_type": "code",
   "execution_count": 11,
   "metadata": {},
   "outputs": [],
   "source": [
    "df = pd.read_csv(\"TOSDR_labeled_with_summaries.csv\")\n",
    "text_data = df['Text'].tolist()\n",
    "\n",
    "tfidf_vectorizer = TfidfVectorizer(ngram_range=(2, 3))\n",
    "tfidf_matrix = tfidf_vectorizer.fit_transform(text_data)\n",
    "\n",
    "feature_names = tfidf_vectorizer.get_feature_names_out()\n",
    "top_ngrams_indices = tfidf_matrix.sum(axis=0).argsort()[0, -50:]\n",
    "\n",
    "\n",
    "top_ngrams_indices_array = np.array(top_ngrams_indices)\n",
    "\n",
    "\n",
    "tfidf_scores = tfidf_matrix.sum(axis=0)\n",
    "top_ngrams_tfidf_scores = tfidf_scores[0, top_ngrams_indices]\n",
    "sum_of_weights = top_ngrams_tfidf_scores.sum()\n",
    "\n",
    "\n",
    "\n",
    "temp = 0\n",
    "lst_features_names = feature_names.tolist()\n",
    "# print(top_ngrams_indices_array[0])\n",
    "top_feature_names = []\n",
    "for i in top_ngrams_indices_array[0]:\n",
    "    top_feature_names.append(lst_features_names[i])\n",
    "\n",
    "\n",
    "\n",
    "def count_and_sum_matching_ngrams(input_sentence):\n",
    "    input_tokens = input_sentence.split()\n",
    "    bigram_count = trigram_count = 0\n",
    "    total_weight = 0\n",
    "\n",
    "    for i in range(len(input_tokens)):\n",
    "        if i < len(input_tokens) - 1:\n",
    "            bigram = ' '.join([input_tokens[i], input_tokens[i + 1]])\n",
    "        if i < len(input_tokens) - 2:\n",
    "            trigram = ' '.join([bigram, input_tokens[i + 2]])\n",
    "\n",
    "\n",
    "        if i < len(input_tokens) - 1 and bigram in top_feature_names:\n",
    "            bigram_count += 1\n",
    "            total_weight += tfidf_matrix[:, tfidf_vectorizer.vocabulary_[bigram]].sum()\n",
    "        if i < len(input_tokens) - 2 and trigram in top_feature_names:\n",
    "            trigram_count += 1\n",
    "            total_weight += tfidf_matrix[:, tfidf_vectorizer.vocabulary_[trigram]].sum()\n",
    "\n",
    "    return total_weight"
   ]
  },
  {
   "cell_type": "markdown",
   "metadata": {},
   "source": [
    "# Defining functions which generates english summaries for each Terms and Service using Sequence-to-Sequence model BART\n"
   ]
  },
  {
   "cell_type": "code",
   "execution_count": 12,
   "metadata": {},
   "outputs": [],
   "source": [
    "def generate_summary(text, max_length=100):\n",
    "    inputs = bart_tokenizer(text, max_length=max_length, return_tensors=\"pt\", truncation=True)\n",
    "    input_ids = inputs.input_ids.to(device)\n",
    "\n",
    "    summary_ids = bart_model.generate(input_ids, max_length=150, min_length=10, length_penalty=2.0, num_beams=5, early_stopping=True)\n",
    "    \n",
    "    summary = bart_tokenizer.decode(summary_ids[0], skip_special_tokens=True, clean_up_tokenization_spaces=True)\n",
    "    \n",
    "    return summary\n",
    "\n",
    "def summarize_sentences(sentences):\n",
    "    bad_sentences = [sentence for sentence in sentences if classify_sentence(sentence) == \"bad\"]\n",
    "    if not bad_sentences:\n",
    "        print(\"No Suspicious TOS found\")\n",
    "        return [], []\n",
    "    summaries = []\n",
    "    risk_level = []\n",
    "    for bad_sentence in bad_sentences:\n",
    "        risk_level.append(get_bad_sentence_confidence(bad_sentence)*0.75+ ((count_and_sum_matching_ngrams(bad_sentence))/sum_of_weights)*0.25)\n",
    "    for bad_sentence in bad_sentences:\n",
    "        summaries.append(generate_summary(bad_sentence))\n",
    "    return summaries, risk_level\n",
    "\n"
   ]
  },
  {
   "cell_type": "markdown",
   "metadata": {},
   "source": [
    "# Defining function which generates translation in Indic languages, Hindi, Bengali, Tamil, using facebook/mbart-large-50-many-to-many-mmt given input is summarised Terms of Service in english\n"
   ]
  },
  {
   "cell_type": "code",
   "execution_count": 13,
   "metadata": {},
   "outputs": [],
   "source": [
    "def translate_text(to_summarise):\n",
    "    resultant_summarisations = []\n",
    "    for english_text in to_summarise:\n",
    "        translator_tokenizer.src_lang = \"en_XX\"\n",
    "        encoded_en = translator_tokenizer(english_text, return_tensors=\"pt\")\n",
    "        generated_tokens1 = translation_model.generate(\n",
    "            **encoded_en,\n",
    "            forced_bos_token_id=translator_tokenizer.lang_code_to_id[\"hi_IN\"]\n",
    "        )\n",
    "        hindi_translation = translator_tokenizer.batch_decode(generated_tokens1, skip_special_tokens=True)\n",
    "\n",
    "        generated_tokens2 = translation_model.generate(\n",
    "            **encoded_en,\n",
    "            forced_bos_token_id=translator_tokenizer.lang_code_to_id[\"bn_IN\"]\n",
    "        )\n",
    "        bengali_translation = translator_tokenizer.batch_decode(generated_tokens2, skip_special_tokens=True)\n",
    "\n",
    "        generated_tokens3 = translation_model.generate(\n",
    "            **encoded_en,\n",
    "            forced_bos_token_id=translator_tokenizer.lang_code_to_id[\"ta_IN\"]\n",
    "        )\n",
    "        tamil_translation = translator_tokenizer.batch_decode(generated_tokens3, skip_special_tokens=True)\n",
    "\n",
    "        resultant_summarisations.append([hindi_translation[0],bengali_translation[0],tamil_translation[0]])\n",
    "    return resultant_summarisations"
   ]
  },
  {
   "cell_type": "markdown",
   "metadata": {},
   "source": [
    "# Function call to execute the multi-model pipeline"
   ]
  },
  {
   "cell_type": "code",
   "execution_count": 14,
   "metadata": {},
   "outputs": [
    {
     "name": "stdout",
     "output_type": "stream",
     "text": [
      "Input TOS \n",
      "\n",
      "\n",
      "1 :  Please note that if you request the erasure of your personal information: We may retain some of your personal information as necessary for our legitimate business interests, such as fraud detection and prevention and enhancing safety.For example, if we suspend an Airbnb Account for fraud or safety reasons, we may retain certain information from that Airbnb Account to prevent that Member from opening a new Airbnb Account in the future.We may retain and use your personal information to the extent necessary to comply with our legal obligations.For example, Airbnb and Airbnb Payments may keep some of your information for tax, legal reporting and auditing obligations. \n",
      "\n",
      "2 :  When signing up for and using our service, we will collect the following information about you:Information that you provide when creating an Account to become a User.This information includes, but is not limited to:Information, such as your name and address, that uniquely identifies you as a natural or legal person \n",
      "\n",
      "3 :  We have the right to monitor, terminate, suspend, or delete any User Account at any time for any reason, or no reason.It is our policy not to comment on any reasons for termination and we have no obligation to provide you with a reason for termination. \n",
      "\n",
      "4 :  Our computer systems and third party hosting provider systems are currently based in the United States and may be located in other countries, so your personal data will be processed by us in the U.S.and other countries where data protection and privacy regulations may not offer the same level of protection as in other parts of the world, such as the European Union.If you create a user account with the Site as a visitor from outside the United States, by using the Site you agree to this Privacy Policy and you consent to the transfer of all such information to the United States, which may not offer an equivalent level of protection of that required in the European Union or certain other countries, and to the processing of that information as described in this Privacy Policy. \n",
      "\n",
      "5 :  We may suspend or terminate your rights to use the Parsec Properties (including your Account) at any time for any reason at our sole discretion, including for any use of the Parsec Properties in violation of these Terms.Upon termination of your rights under these Terms, your Account and right to access and use the Parsec Properties will terminate immediately. \n",
      "\n",
      "6 :  You agree that you will not remove obscure or alter any proprietary rights notices including copyright and trademark notices that may be affixed to or contained within the sdk. \n",
      "\n",
      "7 :  Please note that if you request the erasure of your personal information: We may retain some of your personal information as necessary for our legitimate business interests, such as fraud detection and prevention and enhancing safety.For example, if we suspend an Airbnb Account for fraud or safety reasons, we may retain certain information from that Airbnb Account to prevent that Member from opening a new Airbnb Account in the future.We may retain and use your personal information to the extent necessary to comply with our legal obligations.For example, Airbnb and Airbnb Payments may keep some of your information for tax, legal reporting and auditing obligations. \n",
      "\n"
     ]
    }
   ],
   "source": [
    "def process_multi_sentence_input(sentences):\n",
    "    summaries , risk_level = summarize_sentences(sentences)\n",
    "    return summaries, risk_level\n",
    "\n",
    "\n",
    "multi_sentence_input = [\n",
    "    \"Please note that if you request the erasure of your personal information: We may retain some of your personal information as necessary for our legitimate business interests, such as fraud detection and prevention and enhancing safety.For example, if we suspend an Airbnb Account for fraud or safety reasons, we may retain certain information from that Airbnb Account to prevent that Member from opening a new Airbnb Account in the future.We may retain and use your personal information to the extent necessary to comply with our legal obligations.For example, Airbnb and Airbnb Payments may keep some of your information for tax, legal reporting and auditing obligations.\",\n",
    "    \"When signing up for and using our service, we will collect the following information about you:Information that you provide when creating an Account to become a User.This information includes, but is not limited to:Information, such as your name and address, that uniquely identifies you as a natural or legal person\",\n",
    "    \"We have the right to monitor, terminate, suspend, or delete any User Account at any time for any reason, or no reason.It is our policy not to comment on any reasons for termination and we have no obligation to provide you with a reason for termination.\",\n",
    "    \"Our computer systems and third party hosting provider systems are currently based in the United States and may be located in other countries, so your personal data will be processed by us in the U.S.and other countries where data protection and privacy regulations may not offer the same level of protection as in other parts of the world, such as the European Union.If you create a user account with the Site as a visitor from outside the United States, by using the Site you agree to this Privacy Policy and you consent to the transfer of all such information to the United States, which may not offer an equivalent level of protection of that required in the European Union or certain other countries, and to the processing of that information as described in this Privacy Policy.\",\n",
    "    \"We may suspend or terminate your rights to use the Parsec Properties (including your Account) at any time for any reason at our sole discretion, including for any use of the Parsec Properties in violation of these Terms.Upon termination of your rights under these Terms, your Account and right to access and use the Parsec Properties will terminate immediately.\",\n",
    "    \"You agree that you will not remove obscure or alter any proprietary rights notices including copyright and trademark notices that may be affixed to or contained within the sdk.\",\n",
    "    \"Please note that if you request the erasure of your personal information: We may retain some of your personal information as necessary for our legitimate business interests, such as fraud detection and prevention and enhancing safety.For example, if we suspend an Airbnb Account for fraud or safety reasons, we may retain certain information from that Airbnb Account to prevent that Member from opening a new Airbnb Account in the future.We may retain and use your personal information to the extent necessary to comply with our legal obligations.For example, Airbnb and Airbnb Payments may keep some of your information for tax, legal reporting and auditing obligations.\"\n",
    "    ]\n",
    "\n",
    "\n",
    "print(\"Input TOS \\n\\n\")\n",
    "for i,sentence in enumerate(multi_sentence_input):\n",
    "    print(i+1,\": \",sentence,\"\\n\")"
   ]
  },
  {
   "cell_type": "markdown",
   "metadata": {},
   "source": [
    "# Generated English summaries of suspicious Terms of Serives"
   ]
  },
  {
   "cell_type": "code",
   "execution_count": 15,
   "metadata": {},
   "outputs": [
    {
     "name": "stdout",
     "output_type": "stream",
     "text": [
      "Summarised TOS in English \n",
      "\n",
      "\n",
      "1: We may retain some of your personal information as necessary for our legitimate business interests, such as fraud detection and prevention and enhancing safety.\n",
      "   Risk level: 0.2869627187799826\n",
      "\n",
      "2: When signing up for and using our service, we collect the following information about you:\n",
      "   Risk level: 0.23361974289011686\n",
      "\n",
      "3:  can terminate, terminate, suspend, or delete any user account at any time for any reason, or no reason, with or without notice.\n",
      "   Risk level: 0.3640334959475047\n",
      "\n",
      "4: If you create a user account with the Site as a visitor from outside the United States, by using the Site you agree to this Privacy Policy and the Site's services, you give up your right to participate in class action lawsuits.\n",
      "   Risk level: 0.3249689004556118\n",
      "\n",
      "5: We may suspend or terminate your rights to use the Parsec Properties (including your Account) at any time for any reason at our sole discretion, including for violations of these Terms.\n",
      "   Risk level: 0.3792640108500329\n",
      "\n",
      "6: We may retain some of your personal information as necessary for our legitimate business interests, such as fraud detection and prevention and enhancing safety.\n",
      "   Risk level: 0.2869627187799826\n",
      "\n"
     ]
    }
   ],
   "source": [
    "output_summaries, risk_level = process_multi_sentence_input(multi_sentence_input)\n",
    "\n",
    "print(\"Summarised TOS in English \\n\\n\")\n",
    "for i, (summarised_tos, risk) in enumerate(zip(output_summaries, risk_level)):\n",
    "    print(f\"{i+1}: {summarised_tos}\")\n",
    "    print(f\"   Risk level: {risk}\\n\")\n"
   ]
  },
  {
   "cell_type": "markdown",
   "metadata": {},
   "source": [
    "# Generated suspicious Terms of Service summaries in Indic Languages"
   ]
  },
  {
   "cell_type": "code",
   "execution_count": 16,
   "metadata": {},
   "outputs": [
    {
     "name": "stdout",
     "output_type": "stream",
     "text": [
      "Translation  1 :\n",
      "Hindi: हम आप के कुछ व्यक्तिगत सूचनाओं को अपने वैध व्यापारिक हितों के लिए, जैसे धोखाधड़ी की पहचान और रोकथाम और सुरक्षा बढ़ाने के लिए आवश्यक रूप से सुरक्षित रख सकते हैं।\n",
      "Bengali: আমরা কিছুক আপনার ব ্ যক ্ তিগত তথ ্ য যদি আমাদের সত ্ যিকার অর ্ থনীতির ক ্ ষেত ্ রে সংরক ্ ষণের দরকার হয়, যেমন চুরির সনাক ্ ত করা ও নিয়ন ্ ত ্ রণ করা এবং নিরাপত ্ তার উন ্ নয়ন ।\n",
      "Tamil: fraud detection and prevention and enhancing safety போன்ற நமது சட்டபூர்வமான வர்த்தக நலன்களுக்காக தேவைப்படும் வகையில், நாங்கள் உங்களது சில தனிப்பட்ட தகவல்களைப் பாதுகாக்க முடியும்.\n",
      "\n",
      "\n",
      "Translation  2 :\n",
      "Hindi: हमारी सेवा के लिए साइन-अप करने और उपयोग करने पर, हम आप के बारे में निम्नलिखित जानकारी इकट्ठा करते हैंः\n",
      "Bengali: যখন আমরা আমাদের পরিষেবার জন ্ য স ্ বাক ্ স করি এবং ব ্ যবহার করি, আমরা আপনাদের সম ্ পর ্ কে निम्न তথ ্ য সংগ ্ রহ করি:\n",
      "Tamil: எங்களது சேவையை கையெழுத்திடுவதும், பயன்படுத்துவதும் போது, நாம் உங்களைப் பற்றிய பின்வரும் தகவல்கள் சேகரிக்கிறோம்:\n",
      "\n",
      "\n",
      "Translation  3 :\n",
      "Hindi: किसी भी कारण से या बिना किसी सूचना के किसी भी समय किसी भी उपयोक्ता खाता को समाप्त कर सकता है, समाप्त कर सकता है, स्थगित कर सकता है, या मिटा सकता है।\n",
      "Bengali: যেকোন ব ্ যবহারকারী অ ্ যাকাউন ্ ট কেন ্ দ ্ রে যে কারণেই হোক না কেন, কিংবা কোন কারণেই না কেন, স ্ থাপন করে বা মুক ্ তি করে দিতে পারে অথবা স ্ বচ ্ ছ করে দিতে পারে ।\n",
      "Tamil: எந்தவொரு காரணத்தாலும், எந்தவொரு காரணத்தாலும் அல்லது எந்தவொரு காரணத்தாலும், எந்த நேரத்திலும் எந்தவொரு பயனர் கணக்கைத் துண்டிக்கவும், துண்டிக்கவும், நிறுத்தி வைக்கவும் அல்லது ரத்து செய்யவும் அனுமதிக்கப்பட்டுள்ளது.\n",
      "\n",
      "\n",
      "Translation  4 :\n",
      "Hindi: यदि आप इस साइट को उपयोग करते हुए इस गोपनीयता नीति और साइट के सेवाओं से सहमत हैं, तो आप वर्ग कार्रवाई वादों में भाग लेने के अपने अधिकार का त्याग करते हैं।\n",
      "Bengali: যদি আপনি যুক ্ তরাষ ্ ট ্ রের বাইরের একজন ব ্ যবহারকারী হিসাবে স ্ থাপের সাথে একজন ব ্ যবহারকারী অ ্ যাকাউন ্ ট তৈরি করেন, তাহলে আপনি এই স ্ থাপের ব ্ যবহার মাধ ্ যমে এই স ্ বত ্ ব সংক ্ রান ্ ত বিধি আর স ্ থাপের পরিষেবার সাথে সক ্ ষম হবেন, আপনি আপনার ক ্ লাস কর ্ মকান ্ ডের আপিলে অংশগ ্ রহণ করার স ্ বার ্ থ হারি করবেন ।\n",
      "Tamil: அமெரிக்காவிற்கு வெளியில் இருந்து வருகை தந்தவர் என்ற முறையில் நீங்கள் இந்த வலைத் தளத்தில் ஒரு பயனர் கணக்கை உருவாக்கினால், இந்தプライバシーக் கொள்கை மற்றும் வலைத் தளத்தின் சேவைகளை பயன்படுத்துவதன் மூலம், நீங்கள் வகுப்பு நடவடிக்கை வழக்குகளில் பங்கேற்பதற்கான உங்கள் உரிமையை கைவிடுகிறீர்கள்.\n",
      "\n",
      "\n",
      "Translation  5 :\n",
      "Hindi: हम पार्सेक गुणों (जिसके अंतर्गत आपका खाता भी है) का उपयोग करने के आपके अधिकारों को किसी भी समय किसी भी कारण के लिए, इन शर्तों के उल्लंघनों के लिए भी, हमारे एकमात्र विवेक पर, स्थगित या समाप्त कर सकते हैं।\n",
      "Bengali: আমরা পরিষ ্ কার বস ্ তুত ্ র (আপত ্ র অ ্ যাকাউন ্ টও ব ্ যবহারের) ব ্ যবহারের আপনার সক ্ ষমতাকে সর ্ বকালের জন ্ য আপনার সর ্ বচ ্ ছিন ্ নতা বা তারও সম ্ বন ্ ধ করতে পারি সর ্ বচ ্ ছিন ্ নতামাত ্ র যে কারণেই তা আমাদের একক সক ্ ষেত ্ রে, ক ্ ষেত ্ রে এই বিধিনিষেত ্ রের লঙ ্ ঘনের জন ্ যও ।\n",
      "Tamil: இந்த விதிகளை மீறுதல் உட்பட, எங்களது தனித் தயக்கத்தில் இருக்கும் எந்தவொரு காரணத்திற்காகவும், உங்களது Parsec சொத்துக்களை (உங்களது கணக்கு உட்பட) பயன்படுத்துவதற்கான உங்களது உரிமைகளை நிறுத்திவிடலாம் அல்லது நிறுத்திவிடலாம்.\n",
      "\n",
      "\n",
      "Translation  6 :\n",
      "Hindi: हम आप के कुछ व्यक्तिगत सूचनाओं को अपने वैध व्यापारिक हितों के लिए, जैसे धोखाधड़ी की पहचान और रोकथाम और सुरक्षा बढ़ाने के लिए आवश्यक रूप से सुरक्षित रख सकते हैं।\n",
      "Bengali: আমরা কিছুক আপনার ব ্ যক ্ তিগত তথ ্ য যদি আমাদের সত ্ যিকার অর ্ থনীতির ক ্ ষেত ্ রে সংরক ্ ষণের দরকার হয়, যেমন চুরির সনাক ্ ত করা ও নিয়ন ্ ত ্ রণ করা এবং নিরাপত ্ তার উন ্ নয়ন ।\n",
      "Tamil: fraud detection and prevention and enhancing safety போன்ற நமது சட்டபூர்வமான வர்த்தக நலன்களுக்காக தேவைப்படும் வகையில், நாங்கள் உங்களது சில தனிப்பட்ட தகவல்களைப் பாதுகாக்க முடியும்.\n",
      "\n",
      "\n"
     ]
    }
   ],
   "source": [
    "translations = translate_text(output_summaries)\n",
    "\n",
    "\n",
    "for i,translation in enumerate(translations):\n",
    "    print(\"Translation \",i+1,\":\")\n",
    "    print(\"Hindi:\", translation[0])\n",
    "    print(\"Bengali:\", translation[1])\n",
    "    print(\"Tamil:\", translation[2])\n",
    "    print(\"\\n\")"
   ]
  }
 ],
 "metadata": {
  "kernelspec": {
   "display_name": "TDL",
   "language": "python",
   "name": "python3"
  },
  "language_info": {
   "codemirror_mode": {
    "name": "ipython",
    "version": 3
   },
   "file_extension": ".py",
   "mimetype": "text/x-python",
   "name": "python",
   "nbconvert_exporter": "python",
   "pygments_lexer": "ipython3",
   "version": "3.11.7"
  }
 },
 "nbformat": 4,
 "nbformat_minor": 2
}
