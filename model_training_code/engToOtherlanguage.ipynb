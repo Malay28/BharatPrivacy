{
 "cells": [
  {
   "cell_type": "code",
   "execution_count": 1,
   "metadata": {},
   "outputs": [
    {
     "name": "stderr",
     "output_type": "stream",
     "text": [
      "/Users/malayshikhar/anaconda3/envs/TDL/lib/python3.11/site-packages/tqdm/auto.py:21: TqdmWarning: IProgress not found. Please update jupyter and ipywidgets. See https://ipywidgets.readthedocs.io/en/stable/user_install.html\n",
      "  from .autonotebook import tqdm as notebook_tqdm\n"
     ]
    }
   ],
   "source": [
    "from transformers import MBartForConditionalGeneration, MBart50TokenizerFast\n",
    "\n",
    "model = MBartForConditionalGeneration.from_pretrained(\"facebook/mbart-large-50-many-to-many-mmt\")\n",
    "tokenizer = MBart50TokenizerFast.from_pretrained(\"facebook/mbart-large-50-many-to-many-mmt\")\n",
    "\n",
    "\n",
    "\n"
   ]
  },
  {
   "cell_type": "code",
   "execution_count": 2,
   "metadata": {},
   "outputs": [
    {
     "name": "stdout",
     "output_type": "stream",
     "text": [
      "English: If you request the erasure of your personal information, we may retain some of your data\n",
      "Hindi: यदि आप अपने व्यक्तिगत जानकारी को मिटाने के लिए अनुरोध करते हैं, तो हम आपके कुछ डेटा को सुरक्षित रख सकते हैं\n",
      "Bengali: যদি আপনি আপনার ব ্ যক ্ তিগত তথ ্ য পুনরুদ ্ ধার করতে চান, তাহলে আমরা আপনার কিছু তথ ্ য\n",
      "Tamil: நீங்கள் உங்களது தனிப்பட்ட தகவல்களை அகற்ற வேண்டுமென்றால், உங்களது சில தகவல்களை நாங்கள் சேமிக்கலாம்.\n",
      "Malayalam: നിങ്ങളുടെ വ്യക്തിപരമായ വിവരങ്ങള് മായ്ച്ചുകളയാന് നിങ്ങള് ആവശ്യപ്പെടുകയാണെങ്കില്, ഞങ്ങള് നിങ്ങളുടെ ചില വിവരങ്ങള് സൂക്ഷിക്കാം.\n"
     ]
    }
   ],
   "source": [
    "english_text = \"If you request the erasure of your personal information, we may retain some of your data\"\n",
    "\n",
    "# Translate English to Hindi\n",
    "tokenizer.src_lang = \"en_XX\"\n",
    "encoded_en = tokenizer(english_text, return_tensors=\"pt\")\n",
    "generated_tokens1 = model.generate(\n",
    "    **encoded_en,\n",
    "    forced_bos_token_id=tokenizer.lang_code_to_id[\"hi_IN\"]\n",
    ")\n",
    "hindi_translation = tokenizer.batch_decode(generated_tokens1, skip_special_tokens=True)\n",
    "\n",
    "generated_tokens2 = model.generate(\n",
    "    **encoded_en,\n",
    "    forced_bos_token_id=tokenizer.lang_code_to_id[\"bn_IN\"]\n",
    ")\n",
    "bengali_translation = tokenizer.batch_decode(generated_tokens2, skip_special_tokens=True)\n",
    "\n",
    "generated_tokens3 = model.generate(\n",
    "    **encoded_en,\n",
    "    forced_bos_token_id=tokenizer.lang_code_to_id[\"ta_IN\"]\n",
    ")\n",
    "tamil_translation = tokenizer.batch_decode(generated_tokens3, skip_special_tokens=True)\n",
    "generated_tokens4 = model.generate(\n",
    "    **encoded_en,\n",
    "    forced_bos_token_id=tokenizer.lang_code_to_id[\"ml_IN\"]\n",
    ")\n",
    "malayalam_translation = tokenizer.batch_decode(generated_tokens4, skip_special_tokens=True)\n",
    "\n",
    "\n",
    "\n",
    "print(\"English:\", english_text)\n",
    "print(\"Hindi:\", hindi_translation[0])\n",
    "print(\"Bengali:\", bengali_translation[0])\n",
    "print(\"Tamil:\", tamil_translation[0])\n",
    "print(\"Malayalam:\", malayalam_translation[0])\n"
   ]
  },
  {
   "cell_type": "code",
   "execution_count": null,
   "metadata": {},
   "outputs": [],
   "source": []
  },
  {
   "cell_type": "code",
   "execution_count": 3,
   "metadata": {},
   "outputs": [
    {
     "name": "stderr",
     "output_type": "stream",
     "text": [
      "Some non-default generation parameters are set in the model config. These should go into a GenerationConfig file (https://huggingface.co/docs/transformers/generation_strategies#save-a-custom-decoding-strategy-with-your-model) instead. This warning will be raised to an exception in v4.41.\n",
      "Non-default generation parameters: {'max_length': 200, 'early_stopping': True, 'num_beams': 5, 'forced_eos_token_id': 2}\n"
     ]
    }
   ],
   "source": [
    "model_save_path = \"mbart_eng_to_hi_bn_ta\"\n",
    "\n",
    "# Save the model\n",
    "model.save_pretrained(model_save_path)"
   ]
  }
 ],
 "metadata": {
  "kernelspec": {
   "display_name": "TDL",
   "language": "python",
   "name": "python3"
  },
  "language_info": {
   "codemirror_mode": {
    "name": "ipython",
    "version": 3
   },
   "file_extension": ".py",
   "mimetype": "text/x-python",
   "name": "python",
   "nbconvert_exporter": "python",
   "pygments_lexer": "ipython3",
   "version": "3.11.7"
  }
 },
 "nbformat": 4,
 "nbformat_minor": 2
}
