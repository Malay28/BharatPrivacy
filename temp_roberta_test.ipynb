{
 "cells": [
  {
   "cell_type": "code",
   "execution_count": 18,
   "metadata": {},
   "outputs": [
    {
     "name": "stdout",
     "output_type": "stream",
     "text": [
      "Predicted class for the sentence: bad\n"
     ]
    }
   ],
   "source": [
    "from transformers import RobertaTokenizer, RobertaForSequenceClassification\n",
    "import torch\n",
    "def predict_sentence(sentence, model, tokenizer, device, max_len=128):\n",
    "    # Tokenize the input sentence\n",
    "    inputs = tokenizer(sentence, return_tensors='pt', truncation=True, padding=True, max_length=max_len)\n",
    "    \n",
    "    # Move tensors to the appropriate device\n",
    "    inputs = {key: value.to(device) for key, value in inputs.items()}\n",
    "    \n",
    "    # Perform inference\n",
    "    with torch.no_grad():\n",
    "        outputs = model(**inputs)\n",
    "    \n",
    "    # Interpret the output to get the predicted label\n",
    "    logits = outputs.logits\n",
    "    predicted_label = torch.argmax(logits, dim=1).item()\n",
    "    \n",
    "    return predicted_label\n",
    "\n",
    "# Example sentence to predict\n",
    "# sentence_to_predict = \"We may retain some of your personal information as necessary for our legitimate business interests\"\n",
    "sentence_to_predict = \"we may terminate your access to and use of the services at our sole discretion at any time and without notice to you. you may cancel your account at any time by accessing the pokémon go help center available at https pokemongo nianticlabs com support delete en. upon any termination discontinuation or cancellation of services or your account the following provisions of these terms will survive arbitration notice content ownership rights granted by you effect of termination on trading items virtual money and virtual goods feedback disclaimer of warranties indemnity limitation of liability dispute resolution general terms and this sentence of termination.\"\n",
    "sentence_to_predict  = \"You may cancel your account at any time by accessing the pokémon go help center available at https pokemongo nianticlabs com support delete upon any termination discontinuation or cancellation of services or your account the following provisions of these terms will survive arbitration notice content ownership rights granted by you effect of termination on trading items virtual money and virtual goods feedback disclaimer of warranties indemnity limitation of liability dispute resolution general terms and this sentence of termination\"\n",
    "\n",
    "# neutral\n",
    "sentence_to_predict = \"you agree that you will not remove obscure or alter any proprietary rights notices including copyright and trademark notices that may be affixed to or contained within the sdk.\"\n",
    "# sentence_to_predict = \"We may suspend or terminate your rights to use the Parsec Properties (including your Account) at any time for any reason at our sole discretion, including for any use of the Parsec Properties in violation of these Terms.Upon termination of your rights under these Terms, your Account and right to access and use the Parsec Properties will terminate immediately.\"\n",
    "# Load the saved model and tokenizer\n",
    "model_save_path = \"roberta_model\"\n",
    "loaded_model = RobertaForSequenceClassification.from_pretrained(model_save_path)\n",
    "loaded_tokenizer = RobertaTokenizer.from_pretrained('roberta-base')\n",
    "\n",
    "device = torch.device('cuda') if torch.cuda.is_available() else torch.device('cpu')\n",
    "\n",
    "# Predict using the loaded model\n",
    "predicted_label = predict_sentence(sentence_to_predict, loaded_model, loaded_tokenizer, device)\n",
    "\n",
    "label_map = {\"bad\": 0, \"neutral\": 1}\n",
    "\n",
    "# Map the predicted label to the original class label\n",
    "label_map_reverse = {v: k for k, v in label_map.items()}\n",
    "predicted_class = label_map_reverse[predicted_label]\n",
    "\n",
    "print(\"Predicted class for the sentence:\", predicted_class)\n"
   ]
  }
 ],
 "metadata": {
  "kernelspec": {
   "display_name": "base",
   "language": "python",
   "name": "python3"
  },
  "language_info": {
   "codemirror_mode": {
    "name": "ipython",
    "version": 3
   },
   "file_extension": ".py",
   "mimetype": "text/x-python",
   "name": "python",
   "nbconvert_exporter": "python",
   "pygments_lexer": "ipython3",
   "version": "3.11.5"
  }
 },
 "nbformat": 4,
 "nbformat_minor": 2
}
